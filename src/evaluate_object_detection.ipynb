{
 "cells": [
  {
   "cell_type": "markdown",
   "id": "270fd170-eeda-4e50-a593-38fed540afa1",
   "metadata": {},
   "source": [
    "# Object Detection with Detectron2 - Evaluating\n",
    "Original authors - COMP841 Instructors. \n"
   ]
  },
  {
   "cell_type": "markdown",
   "id": "1c4750e6-576e-4573-acc4-c4f211ea14f6",
   "metadata": {},
   "source": [
    "## Import Required modules and frameworks\n",
    "The following cell imports all the required modules, frameworks which are involved in training the model."
   ]
  },
  {
   "cell_type": "code",
   "execution_count": null,
   "id": "ab339275-9b28-4de5-bf4f-8161752936ee",
   "metadata": {
    "tags": []
   },
   "outputs": [],
   "source": [
    "import torch, torchvision\n",
    "\n",
    "import detectron2\n",
    "from detectron2.utils.logger import setup_logger\n",
    "from detectron2.config import get_cfg\n",
    "from detectron2.data import MetadataCatalog, DatasetCatalog\n",
    "from detectron2.data.datasets import register_coco_instances\n",
    "from detectron2.engine import DefaultTrainer\n",
    "from detectron2.engine import DefaultPredictor\n",
    "from detectron2 import model_zoo\n",
    "\n",
    "from bs4 import BeautifulSoup\n",
    "import lxml\n",
    "from matplotlib import pyplot as plt\n",
    "import cv2\n",
    "import os"
   ]
  }
 ],
 "metadata": {
  "kernelspec": {
   "display_name": "object-detection-gpu:Python",
   "language": "python",
   "name": "conda-env-object-detection-gpu-py"
  },
  "language_info": {
   "codemirror_mode": {
    "name": "ipython",
    "version": 3
   },
   "file_extension": ".py",
   "mimetype": "text/x-python",
   "name": "python",
   "nbconvert_exporter": "python",
   "pygments_lexer": "ipython3",
   "version": "3.9.0"
  }
 },
 "nbformat": 4,
 "nbformat_minor": 5
}
