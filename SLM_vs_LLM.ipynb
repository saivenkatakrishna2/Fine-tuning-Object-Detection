{
  "nbformat": 4,
  "nbformat_minor": 0,
  "metadata": {
    "colab": {
      "provenance": [],
      "authorship_tag": "ABX9TyOCgQHp2p9RmGrRnHKRbaf2",
      "include_colab_link": true
    },
    "kernelspec": {
      "name": "python3",
      "display_name": "Python 3"
    },
    "language_info": {
      "name": "python"
    },
    "widgets": {
      "application/vnd.jupyter.widget-state+json": {
        "2cde6cccecb4442b8033138e79432d45": {
          "model_module": "@jupyter-widgets/controls",
          "model_name": "HBoxModel",
          "model_module_version": "1.5.0",
          "state": {
            "_dom_classes": [],
            "_model_module": "@jupyter-widgets/controls",
            "_model_module_version": "1.5.0",
            "_model_name": "HBoxModel",
            "_view_count": null,
            "_view_module": "@jupyter-widgets/controls",
            "_view_module_version": "1.5.0",
            "_view_name": "HBoxView",
            "box_style": "",
            "children": [
              "IPY_MODEL_99721997f00b4811b01d25a6ce1eb0e1",
              "IPY_MODEL_dd26d13354974f62ae9d2fd7a0eafc42",
              "IPY_MODEL_1ce391f6e14d4c3fab26d5a66c5bba48"
            ],
            "layout": "IPY_MODEL_8e9192f3410e42d4b45d417fe422425a"
          }
        },
        "99721997f00b4811b01d25a6ce1eb0e1": {
          "model_module": "@jupyter-widgets/controls",
          "model_name": "HTMLModel",
          "model_module_version": "1.5.0",
          "state": {
            "_dom_classes": [],
            "_model_module": "@jupyter-widgets/controls",
            "_model_module_version": "1.5.0",
            "_model_name": "HTMLModel",
            "_view_count": null,
            "_view_module": "@jupyter-widgets/controls",
            "_view_module_version": "1.5.0",
            "_view_name": "HTMLView",
            "description": "",
            "description_tooltip": null,
            "layout": "IPY_MODEL_1da7731b69c44b8ca41e88005b9f2c9c",
            "placeholder": "​",
            "style": "IPY_MODEL_93d9fc4bdad7441881bb04da038d2d00",
            "value": "Loading checkpoint shards: 100%"
          }
        },
        "dd26d13354974f62ae9d2fd7a0eafc42": {
          "model_module": "@jupyter-widgets/controls",
          "model_name": "FloatProgressModel",
          "model_module_version": "1.5.0",
          "state": {
            "_dom_classes": [],
            "_model_module": "@jupyter-widgets/controls",
            "_model_module_version": "1.5.0",
            "_model_name": "FloatProgressModel",
            "_view_count": null,
            "_view_module": "@jupyter-widgets/controls",
            "_view_module_version": "1.5.0",
            "_view_name": "ProgressView",
            "bar_style": "success",
            "description": "",
            "description_tooltip": null,
            "layout": "IPY_MODEL_865c61efa36644e9b0d3d22562811e7f",
            "max": 2,
            "min": 0,
            "orientation": "horizontal",
            "style": "IPY_MODEL_3a9eaf6442ac47d7919ae74563aa4541",
            "value": 2
          }
        },
        "1ce391f6e14d4c3fab26d5a66c5bba48": {
          "model_module": "@jupyter-widgets/controls",
          "model_name": "HTMLModel",
          "model_module_version": "1.5.0",
          "state": {
            "_dom_classes": [],
            "_model_module": "@jupyter-widgets/controls",
            "_model_module_version": "1.5.0",
            "_model_name": "HTMLModel",
            "_view_count": null,
            "_view_module": "@jupyter-widgets/controls",
            "_view_module_version": "1.5.0",
            "_view_name": "HTMLView",
            "description": "",
            "description_tooltip": null,
            "layout": "IPY_MODEL_d731276f750f428abca40696a069ddfb",
            "placeholder": "​",
            "style": "IPY_MODEL_158fb8170ab843238b1cf296e087a565",
            "value": " 2/2 [00:00&lt;00:00,  1.50it/s]"
          }
        },
        "8e9192f3410e42d4b45d417fe422425a": {
          "model_module": "@jupyter-widgets/base",
          "model_name": "LayoutModel",
          "model_module_version": "1.2.0",
          "state": {
            "_model_module": "@jupyter-widgets/base",
            "_model_module_version": "1.2.0",
            "_model_name": "LayoutModel",
            "_view_count": null,
            "_view_module": "@jupyter-widgets/base",
            "_view_module_version": "1.2.0",
            "_view_name": "LayoutView",
            "align_content": null,
            "align_items": null,
            "align_self": null,
            "border": null,
            "bottom": null,
            "display": null,
            "flex": null,
            "flex_flow": null,
            "grid_area": null,
            "grid_auto_columns": null,
            "grid_auto_flow": null,
            "grid_auto_rows": null,
            "grid_column": null,
            "grid_gap": null,
            "grid_row": null,
            "grid_template_areas": null,
            "grid_template_columns": null,
            "grid_template_rows": null,
            "height": null,
            "justify_content": null,
            "justify_items": null,
            "left": null,
            "margin": null,
            "max_height": null,
            "max_width": null,
            "min_height": null,
            "min_width": null,
            "object_fit": null,
            "object_position": null,
            "order": null,
            "overflow": null,
            "overflow_x": null,
            "overflow_y": null,
            "padding": null,
            "right": null,
            "top": null,
            "visibility": null,
            "width": null
          }
        },
        "1da7731b69c44b8ca41e88005b9f2c9c": {
          "model_module": "@jupyter-widgets/base",
          "model_name": "LayoutModel",
          "model_module_version": "1.2.0",
          "state": {
            "_model_module": "@jupyter-widgets/base",
            "_model_module_version": "1.2.0",
            "_model_name": "LayoutModel",
            "_view_count": null,
            "_view_module": "@jupyter-widgets/base",
            "_view_module_version": "1.2.0",
            "_view_name": "LayoutView",
            "align_content": null,
            "align_items": null,
            "align_self": null,
            "border": null,
            "bottom": null,
            "display": null,
            "flex": null,
            "flex_flow": null,
            "grid_area": null,
            "grid_auto_columns": null,
            "grid_auto_flow": null,
            "grid_auto_rows": null,
            "grid_column": null,
            "grid_gap": null,
            "grid_row": null,
            "grid_template_areas": null,
            "grid_template_columns": null,
            "grid_template_rows": null,
            "height": null,
            "justify_content": null,
            "justify_items": null,
            "left": null,
            "margin": null,
            "max_height": null,
            "max_width": null,
            "min_height": null,
            "min_width": null,
            "object_fit": null,
            "object_position": null,
            "order": null,
            "overflow": null,
            "overflow_x": null,
            "overflow_y": null,
            "padding": null,
            "right": null,
            "top": null,
            "visibility": null,
            "width": null
          }
        },
        "93d9fc4bdad7441881bb04da038d2d00": {
          "model_module": "@jupyter-widgets/controls",
          "model_name": "DescriptionStyleModel",
          "model_module_version": "1.5.0",
          "state": {
            "_model_module": "@jupyter-widgets/controls",
            "_model_module_version": "1.5.0",
            "_model_name": "DescriptionStyleModel",
            "_view_count": null,
            "_view_module": "@jupyter-widgets/base",
            "_view_module_version": "1.2.0",
            "_view_name": "StyleView",
            "description_width": ""
          }
        },
        "865c61efa36644e9b0d3d22562811e7f": {
          "model_module": "@jupyter-widgets/base",
          "model_name": "LayoutModel",
          "model_module_version": "1.2.0",
          "state": {
            "_model_module": "@jupyter-widgets/base",
            "_model_module_version": "1.2.0",
            "_model_name": "LayoutModel",
            "_view_count": null,
            "_view_module": "@jupyter-widgets/base",
            "_view_module_version": "1.2.0",
            "_view_name": "LayoutView",
            "align_content": null,
            "align_items": null,
            "align_self": null,
            "border": null,
            "bottom": null,
            "display": null,
            "flex": null,
            "flex_flow": null,
            "grid_area": null,
            "grid_auto_columns": null,
            "grid_auto_flow": null,
            "grid_auto_rows": null,
            "grid_column": null,
            "grid_gap": null,
            "grid_row": null,
            "grid_template_areas": null,
            "grid_template_columns": null,
            "grid_template_rows": null,
            "height": null,
            "justify_content": null,
            "justify_items": null,
            "left": null,
            "margin": null,
            "max_height": null,
            "max_width": null,
            "min_height": null,
            "min_width": null,
            "object_fit": null,
            "object_position": null,
            "order": null,
            "overflow": null,
            "overflow_x": null,
            "overflow_y": null,
            "padding": null,
            "right": null,
            "top": null,
            "visibility": null,
            "width": null
          }
        },
        "3a9eaf6442ac47d7919ae74563aa4541": {
          "model_module": "@jupyter-widgets/controls",
          "model_name": "ProgressStyleModel",
          "model_module_version": "1.5.0",
          "state": {
            "_model_module": "@jupyter-widgets/controls",
            "_model_module_version": "1.5.0",
            "_model_name": "ProgressStyleModel",
            "_view_count": null,
            "_view_module": "@jupyter-widgets/base",
            "_view_module_version": "1.2.0",
            "_view_name": "StyleView",
            "bar_color": null,
            "description_width": ""
          }
        },
        "d731276f750f428abca40696a069ddfb": {
          "model_module": "@jupyter-widgets/base",
          "model_name": "LayoutModel",
          "model_module_version": "1.2.0",
          "state": {
            "_model_module": "@jupyter-widgets/base",
            "_model_module_version": "1.2.0",
            "_model_name": "LayoutModel",
            "_view_count": null,
            "_view_module": "@jupyter-widgets/base",
            "_view_module_version": "1.2.0",
            "_view_name": "LayoutView",
            "align_content": null,
            "align_items": null,
            "align_self": null,
            "border": null,
            "bottom": null,
            "display": null,
            "flex": null,
            "flex_flow": null,
            "grid_area": null,
            "grid_auto_columns": null,
            "grid_auto_flow": null,
            "grid_auto_rows": null,
            "grid_column": null,
            "grid_gap": null,
            "grid_row": null,
            "grid_template_areas": null,
            "grid_template_columns": null,
            "grid_template_rows": null,
            "height": null,
            "justify_content": null,
            "justify_items": null,
            "left": null,
            "margin": null,
            "max_height": null,
            "max_width": null,
            "min_height": null,
            "min_width": null,
            "object_fit": null,
            "object_position": null,
            "order": null,
            "overflow": null,
            "overflow_x": null,
            "overflow_y": null,
            "padding": null,
            "right": null,
            "top": null,
            "visibility": null,
            "width": null
          }
        },
        "158fb8170ab843238b1cf296e087a565": {
          "model_module": "@jupyter-widgets/controls",
          "model_name": "DescriptionStyleModel",
          "model_module_version": "1.5.0",
          "state": {
            "_model_module": "@jupyter-widgets/controls",
            "_model_module_version": "1.5.0",
            "_model_name": "DescriptionStyleModel",
            "_view_count": null,
            "_view_module": "@jupyter-widgets/base",
            "_view_module_version": "1.2.0",
            "_view_name": "StyleView",
            "description_width": ""
          }
        }
      }
    }
  },
  "cells": [
    {
      "cell_type": "markdown",
      "metadata": {
        "id": "view-in-github",
        "colab_type": "text"
      },
      "source": [
        "<a href=\"https://colab.research.google.com/github/saivenkatakrishna2/Fine-tuning-Object-Detection/blob/main/SLM_vs_LLM.ipynb\" target=\"_parent\"><img src=\"https://colab.research.google.com/assets/colab-badge.svg\" alt=\"Open In Colab\"/></a>"
      ]
    },
    {
      "cell_type": "code",
      "source": [
        "import time\n",
        "import torch\n",
        "import psutil\n",
        "from transformers import AutoTokenizer, AutoModelForSeq2SeqLM, pipeline"
      ],
      "metadata": {
        "id": "1qDHs6EWUVJd"
      },
      "execution_count": 11,
      "outputs": []
    },
    {
      "cell_type": "code",
      "source": [
        "def run_model(model_name, user_input):\n",
        "    print(f\"\\nLoading model: {model_name}\")\n",
        "    tokenizer = AutoTokenizer.from_pretrained(model_name)\n",
        "    model = AutoModelForSeq2SeqLM.from_pretrained(model_name).to(\"cpu\")\n",
        "    summarizer = pipeline(\"text2text-generation\", model=model, tokenizer=tokenizer)\n",
        "\n",
        "    prompt = f\"summarize: {user_input}\"\n",
        "\n",
        "    # Token count before inference\n",
        "    input_token_ids = tokenizer.encode(prompt, return_tensors=\"pt\")\n",
        "    input_token_count = input_token_ids.shape[1]\n",
        "\n",
        "    # Time and memory measurement\n",
        "    start_time = time.time()\n",
        "    mem_before = psutil.Process().memory_info().rss / 1024 / 1024\n",
        "\n",
        "    result = summarizer(prompt, max_length=100, min_length=20, do_sample=False)\n",
        "\n",
        "    mem_after = psutil.Process().memory_info().rss / 1024 / 1024\n",
        "    end_time = time.time()\n",
        "\n",
        "    summary_text = result[0]['generated_text']\n",
        "    output_token_ids = tokenizer.encode(summary_text, return_tensors=\"pt\")\n",
        "    output_token_count = output_token_ids.shape[1]\n",
        "    sentence_count = summary_text.count('.')\n",
        "\n",
        "    return {\n",
        "        \"output\": summary_text,\n",
        "        \"time_taken_sec\": round(end_time - start_time, 2),\n",
        "        \"memory_used_mb\": round(mem_after - mem_before, 2),\n",
        "        \"input_token_count\": input_token_count,\n",
        "        \"output_token_count\": output_token_count,\n",
        "        \"summary_sentence_count\": sentence_count,\n",
        "    }"
      ],
      "metadata": {
        "id": "tk_guzYUWxmH"
      },
      "execution_count": 12,
      "outputs": []
    },
    {
      "cell_type": "code",
      "source": [
        "# === Get user input ===\n",
        "user_input = input(\"Enter the paragraph you want to summarize:\\n\")\n"
      ],
      "metadata": {
        "colab": {
          "base_uri": "https://localhost:8080/"
        },
        "id": "r1tR4TybW4Fg",
        "outputId": "7de7a8c5-1f7a-4237-a54b-cd96931662d8"
      },
      "execution_count": 13,
      "outputs": [
        {
          "name": "stdout",
          "output_type": "stream",
          "text": [
            "Enter the paragraph you want to summarize:\n",
            "Cryptocurrency is a digital or virtual currency secured by cryptography, existing only online and not tied to a physical form like cash or coins. It operates on a decentralized system, meaning no central authority like a bank or government controls it. Instead, transactions are recorded on a public ledger called a blockchain, and cryptography verifies and secures these transactions. \n"
          ]
        }
      ]
    },
    {
      "cell_type": "code",
      "source": [
        "# === Define models ===\n",
        "slm_model = \"google/flan-t5-small\"   # Small Language Model (~80M params)\n",
        "llm_model = \"google/flan-t5-xl\"      # Large Language Model (~3B params)\n",
        "\n"
      ],
      "metadata": {
        "id": "DHSk3Xr7W62V"
      },
      "execution_count": 14,
      "outputs": []
    },
    {
      "cell_type": "code",
      "source": [
        "# === Run SLM ===\n",
        "print(\"\\n--- SLM: google/flan-t5-small ---\")\n",
        "slm_result = run_model(slm_model, user_input)\n",
        "print(\"Summary:\", slm_result[\"output\"])\n",
        "print(\"Time (s):\", slm_result[\"time_taken_sec\"])\n",
        "print(\"Memory Used (MB):\", slm_result[\"memory_used_mb\"])\n",
        "print(\"Input Tokens:\", slm_result[\"input_token_count\"])\n",
        "print(\"Output Tokens:\", slm_result[\"output_token_count\"])\n",
        "print(\"Sentences in Summary:\", slm_result[\"summary_sentence_count\"])"
      ],
      "metadata": {
        "colab": {
          "base_uri": "https://localhost:8080/"
        },
        "id": "r3DC7EWiW9tF",
        "outputId": "d0fde18e-ec4c-4a84-a07f-73fe3b64e2c4"
      },
      "execution_count": 15,
      "outputs": [
        {
          "output_type": "stream",
          "name": "stdout",
          "text": [
            "\n",
            "--- SLM: google/flan-t5-small ---\n",
            "\n",
            "Loading model: google/flan-t5-small\n"
          ]
        },
        {
          "output_type": "stream",
          "name": "stderr",
          "text": [
            "Device set to use cpu\n"
          ]
        },
        {
          "output_type": "stream",
          "name": "stdout",
          "text": [
            "Summary: Using cryptography to secure transactions, the cryptocurrency is a digital or virtual currency. Using cryptography to secure transactions, the cryptocurrency is a digital or virtual currency.\n",
            "Time (s): 2.49\n",
            "Memory Used (MB): 222.37\n",
            "Input Tokens: 85\n",
            "Output Tokens: 37\n",
            "Sentences in Summary: 2\n"
          ]
        }
      ]
    },
    {
      "cell_type": "code",
      "source": [
        "# === Run LLM ===\n",
        "print(\"\\n--- LLM: google/flan-t5-xl ---\")\n",
        "llm_result = run_model(llm_model, user_input)\n",
        "print(\"Summary:\", llm_result[\"output\"])\n",
        "print(\"Time (s):\", llm_result[\"time_taken_sec\"])\n",
        "print(\"Memory Used (MB):\", llm_result[\"memory_used_mb\"])\n",
        "print(\"Input Tokens:\", llm_result[\"input_token_count\"])\n",
        "print(\"Output Tokens:\", llm_result[\"output_token_count\"])\n",
        "print(\"Sentences in Summary:\", llm_result[\"summary_sentence_count\"])"
      ],
      "metadata": {
        "colab": {
          "base_uri": "https://localhost:8080/",
          "height": 240,
          "referenced_widgets": [
            "2cde6cccecb4442b8033138e79432d45",
            "99721997f00b4811b01d25a6ce1eb0e1",
            "dd26d13354974f62ae9d2fd7a0eafc42",
            "1ce391f6e14d4c3fab26d5a66c5bba48",
            "8e9192f3410e42d4b45d417fe422425a",
            "1da7731b69c44b8ca41e88005b9f2c9c",
            "93d9fc4bdad7441881bb04da038d2d00",
            "865c61efa36644e9b0d3d22562811e7f",
            "3a9eaf6442ac47d7919ae74563aa4541",
            "d731276f750f428abca40696a069ddfb",
            "158fb8170ab843238b1cf296e087a565"
          ]
        },
        "id": "NbxisgE_W_Q8",
        "outputId": "aa958b0c-92f6-44fc-ea32-11d17d1ab286"
      },
      "execution_count": 16,
      "outputs": [
        {
          "output_type": "stream",
          "name": "stdout",
          "text": [
            "\n",
            "--- LLM: google/flan-t5-xl ---\n",
            "\n",
            "Loading model: google/flan-t5-xl\n"
          ]
        },
        {
          "output_type": "display_data",
          "data": {
            "text/plain": [
              "Loading checkpoint shards:   0%|          | 0/2 [00:00<?, ?it/s]"
            ],
            "application/vnd.jupyter.widget-view+json": {
              "version_major": 2,
              "version_minor": 0,
              "model_id": "2cde6cccecb4442b8033138e79432d45"
            }
          },
          "metadata": {}
        },
        {
          "output_type": "stream",
          "name": "stderr",
          "text": [
            "Device set to use cpu\n"
          ]
        },
        {
          "output_type": "stream",
          "name": "stdout",
          "text": [
            "Summary: Understand how cryptocurrency works. Understand how blockchain works. Understand how cryptography works. Understand how blockchain works.\n",
            "Time (s): 61.79\n",
            "Memory Used (MB): 8265.41\n",
            "Input Tokens: 85\n",
            "Output Tokens: 22\n",
            "Sentences in Summary: 4\n"
          ]
        }
      ]
    }
  ]
}